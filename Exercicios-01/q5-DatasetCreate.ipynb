{
 "cells": [
  {
   "cell_type": "markdown",
   "metadata": {},
   "source": [
    "## Criação do Dataset para a Questão 5"
   ]
  },
  {
   "cell_type": "code",
   "execution_count": 25,
   "metadata": {},
   "outputs": [
    {
     "data": {
      "text/plain": [
       "([0.0,\n",
       "  0.1,\n",
       "  0.2,\n",
       "  0.30000000000000004,\n",
       "  0.4,\n",
       "  0.5,\n",
       "  0.6000000000000001,\n",
       "  0.7000000000000001,\n",
       "  0.8,\n",
       "  0.9,\n",
       "  1.0,\n",
       "  1.1,\n",
       "  1.2000000000000002,\n",
       "  1.3,\n",
       "  1.4000000000000001,\n",
       "  1.5,\n",
       "  1.6,\n",
       "  1.7000000000000002,\n",
       "  1.8,\n",
       "  1.9000000000000001],\n",
       " [0,\n",
       "  0.0,\n",
       "  0.10974521305070993,\n",
       "  0.23718730112028194,\n",
       "  0.377719585828099,\n",
       "  0.5240903251985883,\n",
       "  0.6667569920887635,\n",
       "  0.7948868797643719,\n",
       "  0.8979180191463156,\n",
       "  0.9673607748354711,\n",
       "  0.9983647958476117,\n",
       "  0.9905922880363636,\n",
       "  0.9481431714172184,\n",
       "  0.8785871661282713,\n",
       "  0.7914320654287149,\n",
       "  0.6964808198891718,\n",
       "  0.6024733589871253,\n",
       "  0.5162317780834922,\n",
       "  0.4423287159995988,\n",
       "  0.3831585918377165])"
      ]
     },
     "metadata": {},
     "output_type": "display_data"
    }
   ],
   "source": [
    "import numpy as np\n",
    "import math\n",
    "\n",
    "def createStepArray(arraySize, stepSize):\n",
    "    \"\"\" \n",
    "    Creates a new array of numbers spaced by stepSize\n",
    "    \"\"\"\n",
    "    arr = []\n",
    "    \n",
    "    for i in range(arraySize):\n",
    "        arr.append(stepSize*i)\n",
    "        \n",
    "    return arr\n",
    "\n",
    "\n",
    "def generateDataset_Q5(datasetSize, stepSize):\n",
    "    \"\"\" \n",
    "    Generates dataset for training using Q5 function and the fact that each entry depends on the anterior one\n",
    "    \"\"\"\n",
    "    \n",
    "    X = createStepArray(datasetSize, stepSize)\n",
    "    Y = []\n",
    "    \n",
    "    Y.append(0) # Initial value\n",
    "    \n",
    "    \n",
    "    # Creates datasetSize examples\n",
    "    for i in range(1, datasetSize):\n",
    "        Y.append(np.sin(X[i-1] + (np.square(np.sin(X[i-1]))))) # Desired function, in which each entry depends on the anterior\n",
    "        \n",
    "    return X, Y\n",
    "\n",
    "display(generateDataset_Q5(20, 0.1))"
   ]
  },
  {
   "cell_type": "code",
   "execution_count": null,
   "metadata": {},
   "outputs": [],
   "source": []
  }
 ],
 "metadata": {
  "kernelspec": {
   "display_name": "Python 3",
   "language": "python",
   "name": "python3"
  },
  "language_info": {
   "codemirror_mode": {
    "name": "ipython",
    "version": 3
   },
   "file_extension": ".py",
   "mimetype": "text/x-python",
   "name": "python",
   "nbconvert_exporter": "python",
   "pygments_lexer": "ipython3",
   "version": "3.6.4"
  }
 },
 "nbformat": 4,
 "nbformat_minor": 2
}
