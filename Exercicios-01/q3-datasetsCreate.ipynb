{
 "cells": [
  {
   "cell_type": "markdown",
   "metadata": {},
   "source": [
    "## Funções de Criação de Datasets para a Questão 3\n"
   ]
  },
  {
   "cell_type": "markdown",
   "metadata": {},
   "source": [
    "### Criação do Dataset para a Letra A"
   ]
  },
  {
   "cell_type": "code",
   "execution_count": 39,
   "metadata": {},
   "outputs": [
    {
     "data": {
      "text/plain": [
       "([[0, 0],\n",
       "  [0, 0],\n",
       "  [0, 1],\n",
       "  [1, 1],\n",
       "  [0, 1],\n",
       "  [1, 0],\n",
       "  [1, 1],\n",
       "  [1, 1],\n",
       "  [1, 0],\n",
       "  [1, 0]],\n",
       " [0, 0, 1, 0, 1, 1, 0, 0, 1, 1])"
      ]
     },
     "metadata": {},
     "output_type": "display_data"
    }
   ],
   "source": [
    "import numpy as np\n",
    "import math\n",
    "\n",
    "def randomizeArrayData_Q3A(arraySize):\n",
    "    \"\"\" \n",
    "    Creates a new array of boolean pairs in int format\n",
    "    \"\"\"\n",
    "    arr = []\n",
    "    \n",
    "    for i in range(arraySize):\n",
    "        arr.append([(np.random.randint(0,2)),(np.random.randint(0,2))])\n",
    "        \n",
    "    return arr\n",
    "\n",
    "\n",
    "def generateDataset_Q3A(datasetSize):\n",
    "    \"\"\" \n",
    "    Generates dataset for XOR function training\n",
    "    \"\"\"\n",
    "    \n",
    "    X = randomizeArrayData_Q3A(datasetSize)\n",
    "    Y = []\n",
    "    \n",
    "    # Creates datasetSize examples\n",
    "    for i in range(datasetSize):\n",
    "        if X[i] == [0, 0]: \n",
    "            Y.append(0)\n",
    "        if X[i] == [0, 1]: \n",
    "            Y.append(1)\n",
    "        if X[i] == [1, 0]: \n",
    "            Y.append(1)\n",
    "        if X[i] == [1, 1]: \n",
    "            Y.append(0)\n",
    "        \n",
    "    return X, Y\n",
    "\n",
    "display(generateDataset_Q3A(10))"
   ]
  },
  {
   "cell_type": "markdown",
   "metadata": {},
   "source": [
    "### Criação do Dataset para a Letra B"
   ]
  },
  {
   "cell_type": "code",
   "execution_count": 45,
   "metadata": {},
   "outputs": [
    {
     "data": {
      "text/plain": [
       "([3.542173219732014,\n",
       "  2.69214812998843,\n",
       "  0.006291765684816042,\n",
       "  2.6477286143584386,\n",
       "  2.455098342457664,\n",
       "  2.4119926218402212,\n",
       "  0.26634181369289367,\n",
       "  1.5901168328797715,\n",
       "  2.7272785560094936,\n",
       "  0.32639593856529237],\n",
       " [-0.08907531150570192,\n",
       "  0.09734030106886522,\n",
       "  0.9999348843932144,\n",
       "  0.10750351897411387,\n",
       "  0.1283647802982775,\n",
       "  0.12695764568688406,\n",
       "  0.8873291404071548,\n",
       "  -0.19221125866192162,\n",
       "  0.08820468426846914,\n",
       "  0.8337436996431794])"
      ]
     },
     "metadata": {},
     "output_type": "display_data"
    }
   ],
   "source": [
    "import numpy as np\n",
    "import math\n",
    "\n",
    "def randomizeArrayData_Q3B(arraySize):\n",
    "    \"\"\" \n",
    "    Creates a new array of random float numbers between 0 and 4\n",
    "    \"\"\"\n",
    "    arr = []\n",
    "    \n",
    "    for i in range(arraySize):\n",
    "        arr.append(np.random.uniform(0.0, 4.0))\n",
    "        \n",
    "    return arr\n",
    "\n",
    "\n",
    "def generateDataset_Q3B(datasetSize):\n",
    "    \"\"\" \n",
    "    Generates dataset for training following Q3B function format\n",
    "    \"\"\"\n",
    "    \n",
    "    X = randomizeArrayData_Q3B(datasetSize)\n",
    "    Y = []\n",
    "    \n",
    "    # Creates datasetSize examples\n",
    "    for i in range(datasetSize):\n",
    "        Y.append((np.sin(np.pi * X[i])) / (np.pi * X[i]))\n",
    "        \n",
    "    return X, Y\n",
    "\n",
    "display(generateDataset_Q3B(10))"
   ]
  }
 ],
 "metadata": {
  "kernelspec": {
   "display_name": "Python 3",
   "language": "python",
   "name": "python3"
  },
  "language_info": {
   "codemirror_mode": {
    "name": "ipython",
    "version": 3
   },
   "file_extension": ".py",
   "mimetype": "text/x-python",
   "name": "python",
   "nbconvert_exporter": "python",
   "pygments_lexer": "ipython3",
   "version": "3.6.4"
  }
 },
 "nbformat": 4,
 "nbformat_minor": 2
}
