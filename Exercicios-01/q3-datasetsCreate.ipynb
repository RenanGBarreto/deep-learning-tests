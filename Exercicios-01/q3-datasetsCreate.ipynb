{
 "cells": [
  {
   "cell_type": "markdown",
   "metadata": {},
   "source": [
    "## Funções de Criação de Datasets para as Questões 3 e 4\n"
   ]
  },
  {
   "cell_type": "markdown",
   "metadata": {},
   "source": [
    "### Criação do Dataset para a Letra A da Questão 3"
   ]
  },
  {
   "cell_type": "code",
   "execution_count": 39,
   "metadata": {},
   "outputs": [
    {
     "data": {
      "text/plain": [
       "([[0, 0],\n",
       "  [0, 0],\n",
       "  [0, 1],\n",
       "  [1, 1],\n",
       "  [0, 1],\n",
       "  [1, 0],\n",
       "  [1, 1],\n",
       "  [1, 1],\n",
       "  [1, 0],\n",
       "  [1, 0]],\n",
       " [0, 0, 1, 0, 1, 1, 0, 0, 1, 1])"
      ]
     },
     "metadata": {},
     "output_type": "display_data"
    }
   ],
   "source": [
    "import numpy as np\n",
    "import math\n",
    "\n",
    "def randomizeArrayData_Q3A(arraySize):\n",
    "    \"\"\" \n",
    "    Creates a new array of boolean pairs in int format\n",
    "    \"\"\"\n",
    "    arr = []\n",
    "    \n",
    "    for i in range(arraySize):\n",
    "        arr.append([(np.random.randint(0,2)),(np.random.randint(0,2))])\n",
    "        \n",
    "    return arr\n",
    "\n",
    "\n",
    "def generateDataset_Q3A(datasetSize):\n",
    "    \"\"\" \n",
    "    Generates dataset for XOR function training\n",
    "    \"\"\"\n",
    "    \n",
    "    X = randomizeArrayData_Q3A(datasetSize)\n",
    "    Y = []\n",
    "    \n",
    "    # Creates datasetSize examples\n",
    "    for i in range(datasetSize):\n",
    "        if X[i] == [0, 0]: \n",
    "            Y.append(0)\n",
    "        if X[i] == [0, 1]: \n",
    "            Y.append(1)\n",
    "        if X[i] == [1, 0]: \n",
    "            Y.append(1)\n",
    "        if X[i] == [1, 1]: \n",
    "            Y.append(0)\n",
    "        \n",
    "    return X, Y\n",
    "\n",
    "display(generateDataset_Q3A(10))"
   ]
  },
  {
   "cell_type": "markdown",
   "metadata": {},
   "source": [
    "### Criação do Dataset para a Letra B da Questão 3"
   ]
  },
  {
   "cell_type": "code",
   "execution_count": 45,
   "metadata": {},
   "outputs": [
    {
     "data": {
      "text/plain": [
       "([3.542173219732014,\n",
       "  2.69214812998843,\n",
       "  0.006291765684816042,\n",
       "  2.6477286143584386,\n",
       "  2.455098342457664,\n",
       "  2.4119926218402212,\n",
       "  0.26634181369289367,\n",
       "  1.5901168328797715,\n",
       "  2.7272785560094936,\n",
       "  0.32639593856529237],\n",
       " [-0.08907531150570192,\n",
       "  0.09734030106886522,\n",
       "  0.9999348843932144,\n",
       "  0.10750351897411387,\n",
       "  0.1283647802982775,\n",
       "  0.12695764568688406,\n",
       "  0.8873291404071548,\n",
       "  -0.19221125866192162,\n",
       "  0.08820468426846914,\n",
       "  0.8337436996431794])"
      ]
     },
     "metadata": {},
     "output_type": "display_data"
    }
   ],
   "source": [
    "import numpy as np\n",
    "import math\n",
    "\n",
    "def randomizeArrayData_Q3B(arraySize):\n",
    "    \"\"\" \n",
    "    Creates a new array of random float numbers between 0 and 4\n",
    "    \"\"\"\n",
    "    arr = []\n",
    "    \n",
    "    for i in range(arraySize):\n",
    "        arr.append(np.random.uniform(0.0, 4.0))\n",
    "        \n",
    "    return arr\n",
    "\n",
    "\n",
    "def generateDataset_Q3B(datasetSize):\n",
    "    \"\"\" \n",
    "    Generates dataset for training following Q3B function format\n",
    "    \"\"\"\n",
    "    \n",
    "    X = randomizeArrayData_Q3B(datasetSize)\n",
    "    Y = []\n",
    "    \n",
    "    # Creates datasetSize examples\n",
    "    for i in range(datasetSize):\n",
    "        Y.append((np.sin(np.pi * X[i])) / (np.pi * X[i]))\n",
    "        \n",
    "    return X, Y\n",
    "\n",
    "display(generateDataset_Q3B(10))"
   ]
  },
  {
   "cell_type": "markdown",
   "metadata": {},
   "source": [
    "### Criação do Dataset para a Questão 4"
   ]
  },
  {
   "cell_type": "code",
   "execution_count": 98,
   "metadata": {},
   "outputs": [
    {
     "data": {
      "text/plain": [
       "([[0.2473869474030279, 0.9537279053509242],\n",
       "  [0.7297638980007768, 0.3844125761019388],\n",
       "  [-0.0830674838099339, 0.632257835581415],\n",
       "  [0.37551885276524, -0.7936255985280332],\n",
       "  [0.44447289201560003, -0.7661235937447621],\n",
       "  [-0.2878635321796321, -0.41715069338668975],\n",
       "  [-0.5356583670595259, -0.6737148023367412],\n",
       "  [-0.6118643173324654, -0.6927187588781083]],\n",
       " [5, 5, 2, 8, 8, 3, 7, 7])"
      ]
     },
     "metadata": {},
     "output_type": "display_data"
    }
   ],
   "source": [
    "import numpy as np\n",
    "import math\n",
    "\n",
    "def randomizeArrayData_Q4(arraySize):\n",
    "    \"\"\" \n",
    "    Creates a new array of float pairs (vectors) between -1 and 1, corresponding to X and Y coordinates\n",
    "    of the points inside the circle\n",
    "    \"\"\"\n",
    "    arr = []\n",
    "    \n",
    "    for i in range(arraySize):\n",
    "        arr.append([(np.random.uniform(-1.0, 1.0)), (np.random.uniform(-1.0, 1.0))])\n",
    "    \n",
    "    return arr\n",
    "\n",
    "def checkPointLine(x1, y1, x2, y2, xp, yp):\n",
    "    \"\"\" \n",
    "    Checks if a point (xp, yp) is above or below a line defined by other tho points (x1,y1) and (x2,y2)\n",
    "    \"\"\"\n",
    "    v1 = [x2-x1, y2-y1]   # Vector 1\n",
    "    v2 = [xp-x1, yp-y1]   # Vector 2\n",
    "    crossProduct = v1[0]*v2[1] - v1[1]*v2[0]\n",
    "    \n",
    "    #if crossProduct > 0:\n",
    "        #print 'point is on the counter-clockwise side of line'\n",
    "    #elif crossProduct < 0:\n",
    "        #print 'point is on the clockwise side of line'\n",
    "    #else:\n",
    "        #print 'point is exactly on the line'\n",
    "        \n",
    "    return crossProduct\n",
    "\n",
    "\n",
    "def generateDataset_Q4(datasetSize):\n",
    "    \"\"\" \n",
    "    Generates dataset for XOR function training\n",
    "    \"\"\"\n",
    "    \n",
    "    X = randomizeArrayData_Q4(datasetSize)\n",
    "    \n",
    "    # X below is for debugging reasons\n",
    "    #X = [[0.3, 0.3], [0.9, 0.9], [0.3, -0.3], [0.9, -0.9], [-0.3, 0.3], [-0.9, 0.9], [-0.3, -0.3], [-0.9, -0.9]]\n",
    "    \n",
    "    Y = []\n",
    "    \n",
    "    # Creates datasetSize examples\n",
    "    for i in range(datasetSize):\n",
    "        if X[i][0] >= 0:\n",
    "            \n",
    "            if X[i][1] >= 0:\n",
    "                \n",
    "                if checkPointLine(0.0, 1.0, 1.0, 0.0, X[i][0], X[i][1]) >= 0: # Points for the line on the upper right quadrant\n",
    "                    Y.append(5) #Point is above line, so its on C5 region\n",
    "                    \n",
    "                else:\n",
    "                    Y.append(1) #Point is below line, so its on C1 region\n",
    "                    \n",
    "                #print('Superior right')\n",
    "            else:\n",
    "                \n",
    "                if checkPointLine(0.0, -1.0, 1.0, 0.0, X[i][0], X[i][1]) <= 0: # Points for the line on the lower right quadrant\n",
    "                    Y.append(8) #Point is below line, so its on C8 region\n",
    "                    \n",
    "                else:\n",
    "                    Y.append(4) #Point is above line, so its on C4 region\n",
    "                    \n",
    "                #print('Inferior right')\n",
    "            \n",
    "        else:\n",
    "            if X[i][1] >= 0:\n",
    "                \n",
    "                if checkPointLine(0.0, 1.0, -1.0, 0.0, X[i][0], X[i][1]) <= 0: # Points for the line on the upper left quadrant\n",
    "                    Y.append(6) #Point is above line, so its on C6 region\n",
    "                    \n",
    "                else:\n",
    "                    Y.append(2) #Point is below line, so its on C2 region\n",
    "                    \n",
    "                #print('Superior left')\n",
    "                \n",
    "            else:\n",
    "                \n",
    "                if checkPointLine(0.0, -1.0, -1.0, 0.0, X[i][0], X[i][1]) >= 0: # Points for the line on the lower left quadrant\n",
    "                    Y.append(7) #Point is below line, so its on C7 region\n",
    "                    \n",
    "                else:\n",
    "                    Y.append(3) #Point is above line, so its on C3 region\n",
    "                \n",
    "                #print('Inferior left')\n",
    "                \n",
    "    return X, Y\n",
    "\n",
    "#display(randomizeArrayData_Q4(10))\n",
    "display(generateDataset_Q4(8))"
   ]
  },
  {
   "cell_type": "code",
   "execution_count": null,
   "metadata": {},
   "outputs": [],
   "source": []
  },
  {
   "cell_type": "code",
   "execution_count": null,
   "metadata": {},
   "outputs": [],
   "source": []
  }
 ],
 "metadata": {
  "kernelspec": {
   "display_name": "Python 3",
   "language": "python",
   "name": "python3"
  },
  "language_info": {
   "codemirror_mode": {
    "name": "ipython",
    "version": 3
   },
   "file_extension": ".py",
   "mimetype": "text/x-python",
   "name": "python",
   "nbconvert_exporter": "python",
   "pygments_lexer": "ipython3",
   "version": "3.6.4"
  }
 },
 "nbformat": 4,
 "nbformat_minor": 2
}
