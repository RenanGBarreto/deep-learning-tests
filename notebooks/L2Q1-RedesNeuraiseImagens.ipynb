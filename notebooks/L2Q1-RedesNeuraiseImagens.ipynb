{
 "cells": [
  {
   "cell_type": "code",
   "execution_count": 2,
   "metadata": {},
   "outputs": [
    {
     "name": "stderr",
     "output_type": "stream",
     "text": [
      "Using TensorFlow backend.\n"
     ]
    }
   ],
   "source": [
    "import keras\n",
    "import tensorflow as tf\n",
    "import numpy as np\n",
    "import pandas as pd \n",
    "import matplotlib.pyplot as plt\n",
    "from sklearn.model_selection import train_test_split\n",
    "from keras.datasets import mnist"
   ]
  },
  {
   "cell_type": "markdown",
   "metadata": {},
   "source": [
    "Em um problema real de Redes Neurais, normalmente uma instância pode possuir inúmeras entradas, resultando em uma arquitetura de rede extensa com muitos neurônios e de múltiplas camadas. \n",
    "\n",
    "Um exemplo comum de aplicação nesse escopo é um classificador de imagens, em que cada entrada representa um neurônio da camada de entrada. Sabendo disso, esse notebook tem como objetivo implementar uma Rede Neural Multicamada (MLP) para o dataset MNIST. O MNIST é um dataset de dígitos escritos a mão, conforme Figura 1. \n",
    "\n",
    "A MLP deve ser implementada de forma a utilizar uma arquitetura simples e ainda, assim, obter uma performance elevada. Ao final, três modelos de rede devem ser implementados e comparados. Os detalhes de implementação devem ser justificados a cada questão e será dividido em 5 etapas:\n",
    "* Leitura, visualização e Préprocessamento do dataset\n",
    "* Conversão do array de predições Y\n",
    "* Definição da topologia da rede (camadas e neurônios)\n",
    "* Definir otimizador, função custo e modo do treinamento (batch, mini-batch, estocástico)\n",
    "* Treinamento e avaliação de resultados\n",
    "\n",
    "![alt text](imgs/mninst.png \"Title\")"
   ]
  },
  {
   "cell_type": "markdown",
   "metadata": {},
   "source": [
    "# Leitura, visualização e pré-processamento do dataset\n",
    "\n",
    "Ao utilizar Redes Neurais para imagens, cada entrada é um pixel. Dessa forma, após a leitura do dataset, precisa-se descobrir as dimensões da imagem, a quantidade de instâncias, quantas classes e entradas são necessárias para o problema.\n",
    "\n",
    "Feito isso, algumas técnicas de pré-processamento devem ser utilizadas para melhores resultados, dentre eles converter a imagem para tons de cinza e normalizar.\n",
    "\n",
    "Sabendo disso, retorne na célula abaixo essas informações e gere uma versão normalizada do dataset \n"
   ]
  },
  {
   "cell_type": "code",
   "execution_count": 15,
   "metadata": {},
   "outputs": [
    {
     "data": {
      "image/png": "[encoded data removed]",
      "text/plain": [
       "<Figure size 432x288 with 1 Axes>"
      ]
     },
     "metadata": {},
     "output_type": "display_data"
    }
   ],
   "source": [
    "### leitura do dataset\n",
    "(x_train, y_train), (x_test, y_test) = mnist.load_data()\n",
    "### Visualizar instâncias\n",
    "plt.imshow(x_train[5], cmap=plt.get_cmap('gray'))\n",
    "plt.title(y_train[5])\n",
    "### Print - informações das instâncias\n",
    "### Normalizar\n",
    "x_train = None\n",
    "x_test =  None"
   ]
  },
  {
   "cell_type": "markdown",
   "metadata": {},
   "source": [
    "# Conversão do array de predições Y\n",
    "\n",
    "Baseado no número de classes do problema, represente a saída como one-hot encoding. Indique a importância dessa representação."
   ]
  },
  {
   "cell_type": "code",
   "execution_count": 17,
   "metadata": {},
   "outputs": [],
   "source": [
    "def one_hot(true_labels,num_classes):\n",
    "    \"\"\"\n",
    "    Função que implementa o one-hot encoding\n",
    "    Entrada: true_labels - array original com os labels\n",
    "    Retorna: labels - conversão one-hot          \n",
    "    \"\"\"\n",
    "    return labels"
   ]
  },
  {
   "cell_type": "markdown",
   "metadata": {},
   "source": [
    "# Definição de Topologia da Rede\n",
    "\n",
    "Mostre as três arquiteturas que serão utilizadas para resolver o problema. As arquiteturas devem ser simples de forma a retornar bons resultados com a menor quantidade necessária de neurônios e camadas. As três arquiteturas devem variar apenas quanto ao número de neurônios e camadas (incluindo regularização). Baseado nisso, explique:\n",
    "* Quantos neurônios serão utilizados em cada camada?\n",
    "* Quantas camadas serão utilizadas?\n",
    "* É necessário utilizar regularização? Se sim explique a técnica que foi utilizada e o impacto nos resultados\n",
    "* Qual função de ativação será utilizada? Escolha duas funções de ativação e explique os resultados obtidos"
   ]
  },
  {
   "cell_type": "markdown",
   "metadata": {},
   "source": [
    "# Definir otimizador, função custo e modo do treinamento\n",
    "\n",
    "Uma Rede Neural é um problema de otimização, sabendo disso, explique:\n",
    "* Qual otimizador será utilizado? Escolha dois otimizadores, explique a diferença entre eles justificando a escolha e comente os resultados obtidos.\n",
    "* Será necessário utilizar uma função custo? Explique o que é uma função custo e qual será utilizada justificando a escolha.\n",
    "* Qual modo de treinamento foi utilizado? Justifique sua resposta\n",
    "* Quantas épocas serão necessárias? Caso os métodos por batch ou mini-batch sejam escolhidos, indique também o tamanho\n",
    "\n"
   ]
  },
  {
   "cell_type": "markdown",
   "metadata": {},
   "source": [
    "# Treinamento e avaliação dos resultados\n",
    "\n",
    "Treine as três redes e mostre os resultados de cada uma a partir das questões anteriores.\n"
   ]
  },
  {
   "cell_type": "code",
   "execution_count": null,
   "metadata": {},
   "outputs": [],
   "source": []
  }
 ],
 "metadata": {
  "kernelspec": {
   "display_name": "Python 3",
   "language": "python",
   "name": "python3"
  },
  "language_info": {
   "codemirror_mode": {
    "name": "ipython",
    "version": 3
   },
   "file_extension": ".py",
   "mimetype": "text/x-python",
   "name": "python",
   "nbconvert_exporter": "python",
   "pygments_lexer": "ipython3",
   "version": "3.6.5"
  }
 },
 "nbformat": 4,
 "nbformat_minor": 2
}
